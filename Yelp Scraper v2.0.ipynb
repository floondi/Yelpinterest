{
 "cells": [
  {
   "cell_type": "code",
   "execution_count": 1,
   "metadata": {
    "collapsed": true
   },
   "outputs": [],
   "source": [
    "from yelp.client import Client\n",
    "from yelp.oauth1_authenticator import Oauth1Authenticator\n",
    "from bs4 import BeautifulSoup\n",
    "import urllib\n",
    "import re"
   ]
  },
  {
   "cell_type": "markdown",
   "metadata": {},
   "source": [
    "### Define functions"
   ]
  },
  {
   "cell_type": "code",
   "execution_count": 2,
   "metadata": {
    "collapsed": false
   },
   "outputs": [],
   "source": [
    "def connect_API(consumer_key=None, consumer_secret=None, token=None, token_secret=None):\n",
    "    \"\"\" Yelp API authorization\n",
    "    :param consumer_key: Yelp API consumer_key\n",
    "    :param consumer_secret: Yelp API consumer_secret\n",
    "    :param token: Yelp API token\n",
    "    :param token_secret: Yelp API token_secret\n",
    "    :return: Yelp API client object\n",
    "    \"\"\"\n",
    "    auth = Oauth1Authenticator(consumer_key, consumer_secret, token, token_secret)\n",
    "    return Client(auth)\n",
    "\n",
    "def get_businesses(client, offset, keywords, location):\n",
    "    \"\"\"\n",
    "    get Yelp business objects\n",
    "    :param client: Yelp API client object\n",
    "    :param keywords: name of a dish\n",
    "    :param location: city name\n",
    "    :return: a list of Yelp business object from responses\n",
    "    \"\"\"\n",
    "    params = {\n",
    "        'term': keywords,\n",
    "        'offset': offset\n",
    "    }\n",
    "    return client.search(location, **params).businesses\n",
    "\n",
    "\n",
    "def get_data(business_id, keywords):\n",
    "    \"\"\"\n",
    "    pull reviews and photos\n",
    "    :param business_id: a Yelp business id\n",
    "    :param keywords: name of a dish\n",
    "    :return: a list of reviews and a list of photos relative to the keywords\n",
    "    \"\"\"\n",
    "\n",
    "    # data in 1st page\n",
    "    reviews = []\n",
    "    photos = []\n",
    "    SearchURL = 'https://www.yelp.com/biz_photos/%s?tab=food' % business_id\n",
    "    try:\n",
    "        yelppage = BeautifulSoup(urllib.urlopen(SearchURL).read(), \"lxml\")\n",
    "#         print yelppage\n",
    "        total_pages = yelppage.find_all('div', {'class': \"page-of-pages arrange_unit arrange_unit--fill\"})[0].get_text()\n",
    "        total_pages = int(re.findall('of ([0-9]*)', total_pages)[0])\n",
    "        reviews, photos = get_data_single_page(yelppage, keywords)\n",
    "        # data in other pages (only get data from first 5 pages; otherwise, it's going to be super slow)\n",
    "        if total_pages > 8:\n",
    "            total_pages = 8\n",
    "        for page in range(1, total_pages):\n",
    "            num = 30*page\n",
    "            SearchURL = 'https://www.yelp.com/biz_photos/%s?start=%s&tab=food' % (business_id, str(num))\n",
    "            yelppage = BeautifulSoup(urllib.urlopen(SearchURL).read(), \"lxml\")\n",
    "            r, p = get_data_single_page(yelppage, keywords)\n",
    "            reviews += r\n",
    "            photos += p\n",
    "    except UnicodeError:\n",
    "        pass\n",
    "    return reviews, photos\n",
    "\n",
    "def get_data_single_page(yelppage, keywords):\n",
    "    \"\"\"\n",
    "    helper method for get_data\n",
    "    :param yelppage: BeautifulSoup object\n",
    "    :return: a list of reviews and a list of photos relative to the keywords\n",
    "    \"\"\"\n",
    "    results = yelppage.find_all('img', {'alt': re.compile( keywords, re.IGNORECASE)})\n",
    "    reviews = []\n",
    "    photos = []\n",
    "    for result in results:\n",
    "        r = result.get(\"alt\").split(\".\")\n",
    "        if len(r) > 1:\n",
    "            reviews.append(r[1])\n",
    "            photos.append(result.get(\"src\"))\n",
    "    return reviews, photos\n",
    "\n",
    "# def find_food(keywords, location):\n",
    "#     \"\"\"\n",
    "#     get restaurant information from searching results\n",
    "#     :param keywords: keywords for the dish\n",
    "#     :param location: city name\n",
    "#     :return: a dictionary of result (key - business_id, value - review list, photo list, business object)\n",
    "#     \"\"\"\n",
    "\n",
    "#     client = connect_API(consumer_key, consumer_secret, token, token_secret)\n",
    "#     businesses_list = get_businesses(client, keywords, location)\n",
    "\n",
    "#     info_dict = {}\n",
    "#     for business in businesses_list[:1]:\n",
    "#         id = business.id\n",
    "#         # print id\n",
    "#         reviews, photos = get_data(id, keywords)\n",
    "#         if len(reviews) > 0:\n",
    "#             info_dict[id] = {\"reviews\": reviews}\n",
    "#             info_dict[id][\"photos\"] = photos\n",
    "#             info_dict[id][\"business_obj\"] = business\n",
    "#     return info_dict\n",
    "\n",
    "def getJson_location(business_list):\n",
    "    SPACE = \"  \"\n",
    "\n",
    "    headers = [\"yelp_id\", \"address\", \"display_address\", \"city\", \"state_code\", \"postal_code\",\n",
    "               \"country_code\", \"cross_streets\", \"neighborhoods\", \"latitude\", \"longitude\"]\n",
    "    json = \"{\\n\" + SPACE + '\"headers\": [\"' + '\", \"'.join(headers) + '\"],\\n' \\\n",
    "           + SPACE + '\"data\": [\\n'\\\n",
    "           + SPACE * 2 \n",
    "    ii = 0\n",
    "    for business in businesses_list:\n",
    "        print ii, business.id\n",
    "        try:\n",
    "            str(business.name)\n",
    "            yelp_id = business.id\n",
    "            address = business.location.address\n",
    "            display_address = business.location.display_address\n",
    "            city = business.location.city\n",
    "            state_code = business.location.state_code\n",
    "            postal_code = business.location.postal_code\n",
    "            country_code = business.location.country_code\n",
    "            cross_streets = business.location.cross_streets\n",
    "            neighborhoods = business.location.neighborhoods\n",
    "            latitude = business.location.coordinate.latitude\n",
    "            longitude = business.location.coordinate.longitude\n",
    "\n",
    "            json += '{\\n'\n",
    "            for i in headers:\n",
    "                json += '\"' + i + '\":\"' + str(eval(i)) + '\", \\n'\n",
    "            if ii == len(businesses_list)-1:\n",
    "                json +=  SPACE * 2 + '}\\n'\n",
    "            else:\n",
    "                json +=  SPACE * 2 + '},\\n'\n",
    "            ii += 1\n",
    "        except UnicodeError:\n",
    "            pass\n",
    "    json += SPACE + \"\\n\" + SPACE + \"]\" + \"\\n}\"\n",
    "    return json\n",
    "\n",
    "def getJson_business(businesses_list):\n",
    "    SPACE = \"  \"\n",
    "\n",
    "    headers = [\"yelp_id\", \"name\", \"website\", \"phone\", \"rating\", \"review_count\",\n",
    "               \"address\", \"yelp_deals\", \"reviews\", \"photos\"]\n",
    "    json = \"{\\n\" + SPACE + '\"headers\": [\"' + '\", \"'.join(headers) + '\"],\\n' \\\n",
    "           + SPACE + '\"data\": [\\n'\\\n",
    "           + SPACE * 2 \n",
    "    ii = 0\n",
    "    for business in businesses_list:\n",
    "        print ii, business.id\n",
    "        try:\n",
    "            str(business.name)\n",
    "            yelp_id = business.id\n",
    "            name = business.name\n",
    "            website = business.url\n",
    "            phone = business.phone\n",
    "            rating = business.rating\n",
    "            review_count = business.review_count\n",
    "            address = None\n",
    "            if len(business.location.address) > 0:\n",
    "                address = business.location.address[0]\n",
    "            yelp_deals = business.deals\n",
    "            reviews, photos = get_data(yelp_id, name)\n",
    "            for j in range(len(reviews)):\n",
    "                json += '{\\n'\n",
    "                for i in headers:\n",
    "                    if i == \"photos\":\n",
    "                        json += '\"' + i + '\":' + '\"' + photos[j] + '\" \\n' \n",
    "                    elif i == \"reviews\":\n",
    "                        json += '\"' + i + '\":' + '\"' + reviews[j].replace('\"', '') + '\", \\n' \n",
    "                    else:\n",
    "                        json += '\"' + i + '\":\"' + str(eval(i)) + '\", \\n'\n",
    "                if ii == len(businesses_list)-1:\n",
    "                    json +=  SPACE * 2 + '}\\n'\n",
    "                else:\n",
    "                    json +=  SPACE * 2 + '},\\n'\n",
    "            ii += 1\n",
    "        except UnicodeError:\n",
    "            pass\n",
    "    json += SPACE + \"\\n\" + SPACE + \"]\" + \"\\n}\"\n",
    "    return json"
   ]
  },
  {
   "cell_type": "markdown",
   "metadata": {},
   "source": [
    " ### Connect Yelp API and get search responses"
   ]
  },
  {
   "cell_type": "code",
   "execution_count": 3,
   "metadata": {
    "collapsed": false
   },
   "outputs": [],
   "source": [
    "# main\n",
    "consumer_key=\"8WhklGO_09rGkQZy9xMBQQ\"\n",
    "consumer_secret=\"aSYhuXHB0U__JcYxWmBU-qm5a5k\"\n",
    "token=\"ud25l_lGjq4PJPqxX_NXhSQHCbXWdZjq\"\n",
    "token_secret=\"n4jTgD1PzwiWCSVg-hHac8WHx8o\"\n",
    "\n",
    "keywords = \"food\"\n",
    "location = \"San jose, CA\""
   ]
  },
  {
   "cell_type": "code",
   "execution_count": 4,
   "metadata": {
    "collapsed": false
   },
   "outputs": [],
   "source": [
    "client = connect_API(consumer_key, consumer_secret, token, token_secret)"
   ]
  },
  {
   "cell_type": "markdown",
   "metadata": {},
   "source": [
    "### Get all response from Yelp API"
   ]
  },
  {
   "cell_type": "code",
   "execution_count": 5,
   "metadata": {
    "collapsed": false
   },
   "outputs": [
    {
     "ename": "NameError",
     "evalue": "name 'InvalidParameter' is not defined",
     "output_type": "error",
     "traceback": [
      "\u001b[0;31m---------------------------------------------------------------------------\u001b[0m",
      "\u001b[0;31mNameError\u001b[0m                                 Traceback (most recent call last)",
      "\u001b[0;32m<ipython-input-5-d16f10ca417f>\u001b[0m in \u001b[0;36m<module>\u001b[0;34m()\u001b[0m\n\u001b[1;32m      5\u001b[0m         \u001b[0mbusinesses_list\u001b[0m \u001b[0;34m+=\u001b[0m \u001b[0mget_businesses\u001b[0m\u001b[0;34m(\u001b[0m\u001b[0mclient\u001b[0m\u001b[0;34m,\u001b[0m \u001b[0mn\u001b[0m\u001b[0;34m,\u001b[0m \u001b[0mkeywords\u001b[0m\u001b[0;34m,\u001b[0m \u001b[0mlocation\u001b[0m\u001b[0;34m)\u001b[0m\u001b[0;34m\u001b[0m\u001b[0m\n\u001b[1;32m      6\u001b[0m         \u001b[0mn\u001b[0m \u001b[0;34m+=\u001b[0m \u001b[0;36m20\u001b[0m\u001b[0;34m\u001b[0m\u001b[0m\n\u001b[0;32m----> 7\u001b[0;31m     \u001b[0;32mexcept\u001b[0m \u001b[0mInvalidParameter\u001b[0m\u001b[0;34m:\u001b[0m\u001b[0;34m\u001b[0m\u001b[0m\n\u001b[0m\u001b[1;32m      8\u001b[0m         \u001b[0;32mbreak\u001b[0m\u001b[0;34m\u001b[0m\u001b[0m\n",
      "\u001b[0;31mNameError\u001b[0m: name 'InvalidParameter' is not defined"
     ]
    }
   ],
   "source": [
    "n = 0\n",
    "businesses_list = []\n",
    "for i in range(2000):\n",
    "    try:\n",
    "        businesses_list += get_businesses(client, n, keywords, location)\n",
    "        n += 20\n",
    "    except InvalidParameter:\n",
    "        break"
   ]
  },
  {
   "cell_type": "code",
   "execution_count": 6,
   "metadata": {
    "collapsed": false
   },
   "outputs": [
    {
     "data": {
      "text/plain": [
       "1000"
      ]
     },
     "execution_count": 6,
     "metadata": {},
     "output_type": "execute_result"
    }
   ],
   "source": [
    "len(businesses_list)"
   ]
  },
  {
   "cell_type": "code",
   "execution_count": null,
   "metadata": {
    "collapsed": true
   },
   "outputs": [],
   "source": []
  },
  {
   "cell_type": "code",
   "execution_count": 27,
   "metadata": {
    "collapsed": false
   },
   "outputs": [],
   "source": [
    "# for i in businesses_list:\n",
    "#     print i.location.coordinate"
   ]
  },
  {
   "cell_type": "markdown",
   "metadata": {},
   "source": [
    "### Create JSON data"
   ]
  },
  {
   "cell_type": "code",
   "execution_count": 26,
   "metadata": {
    "collapsed": false
   },
   "outputs": [
    {
     "name": "stdout",
     "output_type": "stream",
     "text": [
      "0 yakiniq-sj-san-jose\n"
     ]
    },
    {
     "ename": "IndexError",
     "evalue": "list index out of range",
     "output_type": "error",
     "traceback": [
      "\u001b[0;31m---------------------------------------------------------------------------\u001b[0m",
      "\u001b[0;31mIndexError\u001b[0m                                Traceback (most recent call last)",
      "\u001b[0;32m<ipython-input-26-ad7b938b26af>\u001b[0m in \u001b[0;36m<module>\u001b[0;34m()\u001b[0m\n\u001b[1;32m     19\u001b[0m             \u001b[0maddress\u001b[0m \u001b[0;34m=\u001b[0m \u001b[0mbusiness\u001b[0m\u001b[0;34m.\u001b[0m\u001b[0mlocation\u001b[0m\u001b[0;34m.\u001b[0m\u001b[0maddress\u001b[0m\u001b[0;34m[\u001b[0m\u001b[0;36m0\u001b[0m\u001b[0;34m]\u001b[0m\u001b[0;34m\u001b[0m\u001b[0m\n\u001b[1;32m     20\u001b[0m         \u001b[0myelp_deals\u001b[0m \u001b[0;34m=\u001b[0m \u001b[0mbusiness\u001b[0m\u001b[0;34m.\u001b[0m\u001b[0mdeals\u001b[0m\u001b[0;34m\u001b[0m\u001b[0m\n\u001b[0;32m---> 21\u001b[0;31m         \u001b[0mreviews\u001b[0m\u001b[0;34m,\u001b[0m \u001b[0mphotos\u001b[0m \u001b[0;34m=\u001b[0m \u001b[0mget_data\u001b[0m\u001b[0;34m(\u001b[0m\u001b[0myelp_id\u001b[0m\u001b[0;34m,\u001b[0m \u001b[0mname\u001b[0m\u001b[0;34m)\u001b[0m\u001b[0;34m\u001b[0m\u001b[0m\n\u001b[0m\u001b[1;32m     22\u001b[0m         \u001b[0;32mfor\u001b[0m \u001b[0mj\u001b[0m \u001b[0;32min\u001b[0m \u001b[0mrange\u001b[0m\u001b[0;34m(\u001b[0m\u001b[0mlen\u001b[0m\u001b[0;34m(\u001b[0m\u001b[0mreviews\u001b[0m\u001b[0;34m)\u001b[0m\u001b[0;34m)\u001b[0m\u001b[0;34m:\u001b[0m\u001b[0;34m\u001b[0m\u001b[0m\n\u001b[1;32m     23\u001b[0m             \u001b[0mjson\u001b[0m \u001b[0;34m+=\u001b[0m \u001b[0;34m'{\\n'\u001b[0m\u001b[0;34m\u001b[0m\u001b[0m\n",
      "\u001b[0;32m<ipython-input-2-f0d0f4ebd297>\u001b[0m in \u001b[0;36mget_data\u001b[0;34m(business_id, keywords)\u001b[0m\n\u001b[1;32m     40\u001b[0m         \u001b[0myelppage\u001b[0m \u001b[0;34m=\u001b[0m \u001b[0mBeautifulSoup\u001b[0m\u001b[0;34m(\u001b[0m\u001b[0murllib\u001b[0m\u001b[0;34m.\u001b[0m\u001b[0murlopen\u001b[0m\u001b[0;34m(\u001b[0m\u001b[0mSearchURL\u001b[0m\u001b[0;34m)\u001b[0m\u001b[0;34m.\u001b[0m\u001b[0mread\u001b[0m\u001b[0;34m(\u001b[0m\u001b[0;34m)\u001b[0m\u001b[0;34m,\u001b[0m \u001b[0;34m\"lxml\"\u001b[0m\u001b[0;34m)\u001b[0m\u001b[0;34m\u001b[0m\u001b[0m\n\u001b[1;32m     41\u001b[0m \u001b[0;31m#         print yelppage\u001b[0m\u001b[0;34m\u001b[0m\u001b[0;34m\u001b[0m\u001b[0m\n\u001b[0;32m---> 42\u001b[0;31m         \u001b[0mtotal_pages\u001b[0m \u001b[0;34m=\u001b[0m \u001b[0myelppage\u001b[0m\u001b[0;34m.\u001b[0m\u001b[0mfind_all\u001b[0m\u001b[0;34m(\u001b[0m\u001b[0;34m'div'\u001b[0m\u001b[0;34m,\u001b[0m \u001b[0;34m{\u001b[0m\u001b[0;34m'class'\u001b[0m\u001b[0;34m:\u001b[0m \u001b[0;34m\"page-of-pages arrange_unit arrange_unit--fill\"\u001b[0m\u001b[0;34m}\u001b[0m\u001b[0;34m)\u001b[0m\u001b[0;34m[\u001b[0m\u001b[0;36m0\u001b[0m\u001b[0;34m]\u001b[0m\u001b[0;34m.\u001b[0m\u001b[0mget_text\u001b[0m\u001b[0;34m(\u001b[0m\u001b[0;34m)\u001b[0m\u001b[0;34m\u001b[0m\u001b[0m\n\u001b[0m\u001b[1;32m     43\u001b[0m         \u001b[0mtotal_pages\u001b[0m \u001b[0;34m=\u001b[0m \u001b[0mint\u001b[0m\u001b[0;34m(\u001b[0m\u001b[0mre\u001b[0m\u001b[0;34m.\u001b[0m\u001b[0mfindall\u001b[0m\u001b[0;34m(\u001b[0m\u001b[0;34m'of ([0-9]*)'\u001b[0m\u001b[0;34m,\u001b[0m \u001b[0mtotal_pages\u001b[0m\u001b[0;34m)\u001b[0m\u001b[0;34m[\u001b[0m\u001b[0;36m0\u001b[0m\u001b[0;34m]\u001b[0m\u001b[0;34m)\u001b[0m\u001b[0;34m\u001b[0m\u001b[0m\n\u001b[1;32m     44\u001b[0m         \u001b[0mreviews\u001b[0m\u001b[0;34m,\u001b[0m \u001b[0mphotos\u001b[0m \u001b[0;34m=\u001b[0m \u001b[0mget_data_single_page\u001b[0m\u001b[0;34m(\u001b[0m\u001b[0myelppage\u001b[0m\u001b[0;34m,\u001b[0m \u001b[0mkeywords\u001b[0m\u001b[0;34m)\u001b[0m\u001b[0;34m\u001b[0m\u001b[0m\n",
      "\u001b[0;31mIndexError\u001b[0m: list index out of range"
     ]
    }
   ],
   "source": [
    "SPACE = \"  \"\n",
    "\n",
    "headers = [\"yelp_id\", \"name\", \"website\", \"phone\", \"rating\", \"review_count\",\n",
    "           \"address\", \"yelp_deals\", \"reviews\", \"photos\"]\n",
    "json = \"{\\n\" + SPACE + '\"headers\": [\"' + '\", \"'.join(headers) + '\"],\\n' \\\n",
    "       + SPACE + '\"data\": [\\n'\\\n",
    "       + SPACE * 2 \n",
    "ii = 0\n",
    "for business in businesses_list[650:]:\n",
    "    print ii, business.id\n",
    "    try:\n",
    "        str(business.name)\n",
    "        yelp_id = business.id\n",
    "        name = business.name\n",
    "        website = business.url\n",
    "        phone = business.phone\n",
    "        rating = business.rating\n",
    "        review_count = business.review_count\n",
    "        address = None\n",
    "        if len(business.location.address) > 0:\n",
    "            address = business.location.address[0]\n",
    "        yelp_deals = business.deals\n",
    "        reviews, photos = get_data(yelp_id, name)\n",
    "        for j in range(len(reviews)):\n",
    "            json += '{\\n'\n",
    "            for i in headers:\n",
    "                if i == \"photos\":\n",
    "                    json += '\"' + i + '\":' + '\"' + photos[j] + '\" \\n' \n",
    "                elif i == \"reviews\":\n",
    "                    json += '\"' + i + '\":' + '\"' + reviews[j].replace('\"', '') + '\", \\n' \n",
    "                else:\n",
    "                    json += '\"' + i + '\":\"' + str(eval(i)) + '\", \\n'\n",
    "            if ii == len(businesses_list[650:])-1:\n",
    "                json +=  SPACE * 2 + '}\\n'\n",
    "            else:\n",
    "                json +=  SPACE * 2 + '},\\n'\n",
    "        ii += 1\n",
    "    except UnicodeError:\n",
    "        pass\n",
    "json += SPACE + \"\\n\" + SPACE + \"]\" + \"\\n}\"\n",
    "# print json"
   ]
  },
  {
   "cell_type": "code",
   "execution_count": 53,
   "metadata": {
    "collapsed": false
   },
   "outputs": [],
   "source": [
    "# json = getJson_business(businesses_list[193:])\n",
    "# print json"
   ]
  },
  {
   "cell_type": "code",
   "execution_count": 35,
   "metadata": {
    "collapsed": false
   },
   "outputs": [],
   "source": [
    "# json = getJson_location(businesses_list[:1])"
   ]
  },
  {
   "cell_type": "code",
   "execution_count": 23,
   "metadata": {
    "collapsed": false
   },
   "outputs": [],
   "source": [
    "# save JSON file\n",
    "f = open(\"business_san_jose1.json\", \"w\")\n",
    "f.write(json.encode(\"utf-8\"))\n",
    "f.close()"
   ]
  },
  {
   "cell_type": "code",
   "execution_count": null,
   "metadata": {
    "collapsed": true
   },
   "outputs": [],
   "source": [
    "321 billys-hotdogs-san-jose\n",
    "322 ono-hawaiian-bbq-san-jose\n",
    "323 izzo-restaurant-san-jose\n",
    "324 bread-box-san-jose\n",
    "325 fireside-caffe-deli-and-gelato-san-jose-2"
   ]
  }
 ],
 "metadata": {
  "anaconda-cloud": {},
  "kernelspec": {
   "display_name": "Python [conda root]",
   "language": "python",
   "name": "conda-root-py"
  },
  "language_info": {
   "codemirror_mode": {
    "name": "ipython",
    "version": 2
   },
   "file_extension": ".py",
   "mimetype": "text/x-python",
   "name": "python",
   "nbconvert_exporter": "python",
   "pygments_lexer": "ipython2",
   "version": "2.7.12"
  }
 },
 "nbformat": 4,
 "nbformat_minor": 1
}
