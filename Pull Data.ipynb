{
 "cells": [
  {
   "cell_type": "code",
   "execution_count": 1,
   "metadata": {
    "collapsed": true
   },
   "outputs": [],
   "source": [
    "from yelp.client import Client\n",
    "from yelp.oauth1_authenticator import Oauth1Authenticator\n",
    "from bs4 import BeautifulSoup\n",
    "import urllib\n",
    "import re"
   ]
  },
  {
   "cell_type": "markdown",
   "metadata": {},
   "source": [
    "### Define functions"
   ]
  },
  {
   "cell_type": "code",
   "execution_count": 2,
   "metadata": {
    "collapsed": false
   },
   "outputs": [],
   "source": [
    "def connect_API(consumer_key=None, consumer_secret=None, token=None, token_secret=None):\n",
    "    \"\"\" Yelp API authorization\n",
    "    :param consumer_key:\n",
    "    :param consumer_secret:\n",
    "    :param token:\n",
    "    :param token_secret:\n",
    "    :return: Yelp API client object\n",
    "    \"\"\"\n",
    "    auth = Oauth1Authenticator(consumer_key, consumer_secret, token, token_secret)\n",
    "    return Client(auth)\n",
    "\n",
    "def get_businesses(client, keywords):\n",
    "    \"\"\"\n",
    "    get Yelp business objects\n",
    "    :param client: Yelp API client object\n",
    "    :param keywords: name of a dish\n",
    "    :return: a list of Yelp business object from responses\n",
    "    \"\"\"\n",
    "    params = {\n",
    "        'term': keywords\n",
    "    }\n",
    "    return client.search('San Francisco', **params).businesses\n",
    "\n",
    "def get_data(business_id, keywords):\n",
    "    \"\"\"\n",
    "    pull reviews and photos\n",
    "    :param business_id: a Yelp business id\n",
    "    :param keywords: name of a dish\n",
    "    :return: a list of reviews and a list of photos relative to the keywords\n",
    "    \"\"\"\n",
    "\n",
    "    # data in 1st page\n",
    "    reviews = []\n",
    "    photos = []\n",
    "    SearchURL = 'https://www.yelp.com/biz_photos/%s?tab=food' % business_id\n",
    "    try:\n",
    "        yelppage = BeautifulSoup(urllib.urlopen(SearchURL).read(), \"lxml\")\n",
    "        total_pages = yelppage.find_all('div', {'class': \"page-of-pages arrange_unit arrange_unit--fill\"})[0].get_text()\n",
    "        total_pages = int(re.findall('of ([0-9]*)', total_pages)[0])\n",
    "        reviews, photos = get_data_single_page(yelppage, keywords)\n",
    "        # data in other pages (only get data from first 5 pages; otherwise, it's going to be super slow)\n",
    "        if total_pages > 5:\n",
    "            total_pages = 5\n",
    "        for page in range(1, total_pages):\n",
    "            num = 30*page\n",
    "            SearchURL = 'https://www.yelp.com/biz_photos/%s?start=%s&tab=food' % (business_id, str(num))\n",
    "            yelppage = BeautifulSoup(urllib.urlopen(SearchURL).read(), \"lxml\")\n",
    "            r, p = get_data_single_page(yelppage, keywords)\n",
    "            reviews += r\n",
    "            photos += p\n",
    "    except UnicodeError:\n",
    "        pass\n",
    "    return reviews, photos\n",
    "\n",
    "def get_data_single_page(yelppage, keywords):\n",
    "    \"\"\"\n",
    "    helper method for get_data(business_id, keywords)\n",
    "    :param yelppage: BeautifulSoup object\n",
    "    :return: a list of reviews and a list of photos relative to the keywords\n",
    "    \"\"\"\n",
    "    results = yelppage.find_all('img', {'alt': re.compile(\" \" + keywords + \" \", re.IGNORECASE)})\n",
    "    reviews = []\n",
    "    photos = []\n",
    "    for result in results:\n",
    "        r = result.get(\"alt\").split(\".\")\n",
    "        if len(r) > 1:\n",
    "            reviews.append(r[1])\n",
    "            photos.append(result.get(\"src\"))\n",
    "    return reviews, photos\n",
    "\n",
    "def get_info_dict(businesses_list):\n",
    "    \"\"\"\n",
    "    get restaurant information from searching results\n",
    "\n",
    "    :param businesses_list: a list of Yelp business object\n",
    "    :return: a dictionary of result (key - business_id, value - review list, photo list, business object)\n",
    "    \"\"\"\n",
    "    info_dict = {}\n",
    "    for business in businesses_list:\n",
    "        id = business.id\n",
    "        print id\n",
    "        reviews, photos = get_data(id, keywords)\n",
    "        if len(reviews) > 0:\n",
    "            info_dict[id] = {\"reviews\": reviews}\n",
    "            info_dict[id][\"photos\"] = photos\n",
    "            info_dict[id][\"business_obj\"] = business\n",
    "    return info_dict\n"
   ]
  },
  {
   "cell_type": "markdown",
   "metadata": {},
   "source": [
    " ### Connect Yelp API and get search responses"
   ]
  },
  {
   "cell_type": "code",
   "execution_count": 3,
   "metadata": {
    "collapsed": false
   },
   "outputs": [],
   "source": [
    "# main\n",
    "consumer_key=\"8WhklGO_09rGkQZy9xMBQQ\"\n",
    "consumer_secret=\"aSYhuXHB0U__JcYxWmBU-qm5a5k\"\n",
    "token=\"ud25l_lGjq4PJPqxX_NXhSQHCbXWdZjq\"\n",
    "token_secret=\"n4jTgD1PzwiWCSVg-hHac8WHx8o\"\n",
    "\n",
    "keywords = \"Pad See Ew\"\n",
    "\n",
    "# connect yelp api \n",
    "client = connect_API(consumer_key, consumer_secret, token, token_secret)\n",
    "# get responses from api\n",
    "businesses_list = get_businesses(client, keywords)"
   ]
  },
  {
   "cell_type": "markdown",
   "metadata": {},
   "source": [
    "### create a restaurant information dictionary from responses"
   ]
  },
  {
   "cell_type": "markdown",
   "metadata": {},
   "source": [
    "#### It takes a little bit time depend on the size of response, so I print out the restaurant id to check if the kernel died\n",
    "#### we can think about how to improve the efficiency later"
   ]
  },
  {
   "cell_type": "code",
   "execution_count": 4,
   "metadata": {
    "collapsed": false
   },
   "outputs": [
    {
     "name": "stdout",
     "output_type": "stream",
     "text": [
      "thai-time-restaurant-san-francisco\n",
      "lers-ros-san-francisco-2\n",
      "champa-garden-san-francisco-2\n",
      "house-of-thai-san-francisco-2\n",
      "ben-thai-cafe-san-francisco\n",
      "marnee-thai-san-francisco\n",
      "kings-thai-cuisine-1-san-francisco-2\n",
      "marnee-thai-san-francisco-2\n",
      "basil-thai-restaurant-and-bar-san-francisco\n",
      "jitlada-thai-cuisine-san-francisco\n",
      "chabaa-thai-cuisine-san-francisco-2\n",
      "zabb-thai-cuisine-san-francisco\n",
      "ploy-ii-san-francisco\n",
      "sri-thai-san-francisco\n",
      "chim-san-francisco\n",
      "pad-thai-restaurant-san-francisco\n",
      "rins-thai-restaurant-san-francisco\n",
      "thai-cottage-restaurant-san-francisco\n",
      "siam-lotus-thai-cuisine-san-francisco\n",
      "manivanh-thai-restaurant-san-francisco\n"
     ]
    }
   ],
   "source": [
    "info_dict = get_info_dict(businesses_list)"
   ]
  },
  {
   "cell_type": "markdown",
   "metadata": {},
   "source": [
    "### getting values from dictionary"
   ]
  },
  {
   "cell_type": "code",
   "execution_count": 6,
   "metadata": {
    "collapsed": false
   },
   "outputs": [
    {
     "name": "stdout",
     "output_type": "stream",
     "text": [
      "-----------------------Zabb Thai Cuisine-----------------------\n",
      "[' Pad see ew with pork', ' Pad See Ew with beef - beef, rice noodle stir fried with broccoli, carrot and egg']\n",
      "['https://s3-media1.fl.yelpcdn.com/bphoto/GCRSPkto2LZGebi-0r96GQ/258s.jpg', 'https://s3-media1.fl.yelpcdn.com/bphoto/_SV2ls9_PtbuvzstfvDrLA/258s.jpg']\n",
      "-----------------------Marnee Thai-----------------------\n",
      "[' Pad see ew with chicken', ' Pad see ew with pork']\n",
      "['https://s3-media1.fl.yelpcdn.com/bphoto/bj64mQNIR8mEuNqEc5m0PQ/258s.jpg', 'https://s3-media1.fl.yelpcdn.com/bphoto/2OWlshVJMSao_8_R_1578w/258s.jpg']\n",
      "-----------------------Ben Thai Cafe-----------------------\n",
      "[' Pad see ew with prawns - $16']\n",
      "['https://s3-media3.fl.yelpcdn.com/bphoto/hufCYlw_L_cpbruczHpXnA/258s.jpg']\n",
      "-----------------------Thai Time Restaurant-----------------------\n",
      "[' Pad See Ew with Beef', ' Pork pad see ew (with no carrots) $7']\n",
      "['https://s3-media2.fl.yelpcdn.com/bphoto/HKlaek9LOGzYcsyMRbjumA/258s.jpg', 'https://s3-media1.fl.yelpcdn.com/bphoto/Dy2X1M5CXLzF4WHlIATGRg/258s.jpg']\n",
      "-----------------------Ploy II-----------------------\n",
      "[' Pad see ew beef! So good!', ' Pad see ew with chicken ($10']\n",
      "['https://s3-media3.fl.yelpcdn.com/bphoto/RnAC7B2Ojykk6-SGVWCXcQ/258s.jpg', 'https://s3-media1.fl.yelpcdn.com/bphoto/0cKs1H_N1zbEADtFAKm6Xg/258s.jpg']\n",
      "-----------------------Chabaa Thai Cuisine-----------------------\n",
      "[' Pad See Ew (shrimp)']\n",
      "['https://s3-media2.fl.yelpcdn.com/bphoto/ZKFgHaK1Fnx4Rs7rui3ztw/258s.jpg']\n",
      "-----------------------Manivanh Thai Restaurant-----------------------\n",
      "[' Pad See Ew with Beef']\n",
      "['https://s3-media2.fl.yelpcdn.com/bphoto/bI8FtI6PP7vLhi2qij73PQ/258s.jpg']\n",
      "-----------------------King's Thai Cuisine #1-----------------------\n",
      "[' Pad see ew with tofu', ' Pad See Ew with chicken']\n",
      "['https://s3-media4.fl.yelpcdn.com/bphoto/Fz93PgxQCe_140-GcPVcRw/258s.jpg', 'https://s3-media1.fl.yelpcdn.com/bphoto/IOMnndnCTbwAkMhm-btmfw/258s.jpg']\n",
      "-----------------------Lers Ros-----------------------\n",
      "[' Pad see ew with chicken', ' Pad see ew - beef (spicy pan fried noodles)']\n",
      "['https://s3-media3.fl.yelpcdn.com/bphoto/mdV6Lt1hjM8TuxXupXT59g/258s.jpg', 'https://s3-media2.fl.yelpcdn.com/bphoto/sqJRz_vZvE2ZHODz146qUQ/258s.jpg']\n",
      "-----------------------Basil Thai Restaurant & Bar-----------------------\n",
      "[' Pad see ew with beef']\n",
      "['https://s3-media3.fl.yelpcdn.com/bphoto/Q_ihRqrR56PEv-QF7tbIkQ/258s.jpg']\n",
      "-----------------------Chim-----------------------\n",
      "[' Pad see ew with chicken ($9']\n",
      "['https://s3-media4.fl.yelpcdn.com/bphoto/HDY729xEnyY-iwDIG-5I0Q/258s.jpg']\n",
      "-----------------------Jitlada Thai Cuisine-----------------------\n",
      "[' Pad see ew (sp)', ' Papaya salad & red curry & pad see ew tofu']\n",
      "['https://s3-media1.fl.yelpcdn.com/bphoto/6ku38Xd3gr9OlGYtX51mQQ/258s.jpg', 'https://s3-media3.fl.yelpcdn.com/bphoto/XrlR_qzYc-BPWzq1VV2MXA/258s.jpg']\n",
      "-----------------------House of Thai-----------------------\n",
      "[' pad see ew w/ pork']\n",
      "['https://s3-media2.fl.yelpcdn.com/bphoto/ic3VysU-Wbpa5I3EnzTSRw/258s.jpg']\n",
      "-----------------------Marnee Thai-----------------------\n",
      "[' Pad See Ew with Chicken - $9']\n",
      "['https://s3-media3.fl.yelpcdn.com/bphoto/VVHHb937kb8H2z4xLPtonA/258s.jpg']\n",
      "-----------------------Pad Thai Restaurant-----------------------\n",
      "[' Pad See Ew (top), Shrimp Pad Thai (bottom)']\n",
      "['https://s3-media2.fl.yelpcdn.com/bphoto/kYukMraIaQsGRYqdm69CzQ/258s.jpg']\n"
     ]
    }
   ],
   "source": [
    "for key, value in info_dict.iteritems():\n",
    "    print \"-----------------------\" + value['business_obj'].name + \"-----------------------\"\n",
    "    print value['reviews']\n",
    "    print value['photos']"
   ]
  },
  {
   "cell_type": "code",
   "execution_count": null,
   "metadata": {
    "collapsed": true
   },
   "outputs": [],
   "source": []
  }
 ],
 "metadata": {
  "anaconda-cloud": {},
  "kernelspec": {
   "display_name": "Python [conda root]",
   "language": "python",
   "name": "conda-root-py"
  },
  "language_info": {
   "codemirror_mode": {
    "name": "ipython",
    "version": 2
   },
   "file_extension": ".py",
   "mimetype": "text/x-python",
   "name": "python",
   "nbconvert_exporter": "python",
   "pygments_lexer": "ipython2",
   "version": "2.7.12"
  }
 },
 "nbformat": 4,
 "nbformat_minor": 1
}
